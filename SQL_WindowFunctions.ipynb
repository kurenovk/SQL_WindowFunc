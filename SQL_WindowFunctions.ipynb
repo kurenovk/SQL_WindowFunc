{
  "nbformat": 4,
  "nbformat_minor": 0,
  "metadata": {
    "colab": {
      "provenance": []
    },
    "kernelspec": {
      "name": "python3",
      "display_name": "Python 3"
    },
    "language_info": {
      "name": "python"
    }
  },
  "cells": [
    {
      "cell_type": "markdown",
      "source": [
        "# Выгружаем библиотеки и ссылки на документацию"
      ],
      "metadata": {
        "id": "99kFdEhx0guw"
      }
    },
    {
      "cell_type": "code",
      "execution_count": 12,
      "metadata": {
        "id": "qrHs1p3PobWy"
      },
      "outputs": [],
      "source": [
        "import pandas as pd\n",
        "import sqlalchemy as sa\n",
        "import numpy as np\n",
        "from IPython.display import Image"
      ]
    },
    {
      "cell_type": "markdown",
      "source": [
        "Неплохая статья - [здесь](https://habr.com/ru/articles/664000/)"
      ],
      "metadata": {
        "id": "qXiR1TA6o08g"
      }
    },
    {
      "cell_type": "markdown",
      "source": [
        "Курс на Степике - [здесь](https://stepik.org/course/95367/syllabus)"
      ],
      "metadata": {
        "id": "0S8ZWXlmpEBg"
      }
    },
    {
      "cell_type": "markdown",
      "source": [
        "The IPython API документиация, откуда мы взяли модуль Image - [здесь](https://ipython.readthedocs.io/en/8.16.0/api/index.html)"
      ],
      "metadata": {
        "id": "TkO65UDX0N15"
      }
    },
    {
      "cell_type": "markdown",
      "source": [
        "Так в ноутбук вставляют [картинки](https://sky.pro/wiki/python/kak-vstavit-izobrazhenie-v-jupyter-notebook-markdown-i-python/)"
      ],
      "metadata": {
        "id": "IUz9rLsXr4Ro"
      }
    },
    {
      "cell_type": "markdown",
      "source": [
        "# 1. Общее понятие оконной функции"
      ],
      "metadata": {
        "id": "bJSTlZN30xiT"
      }
    },
    {
      "cell_type": "markdown",
      "source": [
        "**Оконная функция в SQL** - функция, которая работает с выделенным набором строк (окном или партицией) и выполняет вычисление для этого набора строк в отдельном столбце.\n",
        "\n"
      ],
      "metadata": {
        "id": "N8_ZCVQypb9u"
      }
    },
    {
      "cell_type": "markdown",
      "source": [
        "**Партиции (окна из набора строк)** - это набор строк, указанный для оконной функции по одному из столбцов или группе столбцов таблицы.\n",
        "\n",
        "Партиции для каждой оконной функции в запросе могут быть разделены по различным колонкам таблицы - если в запросе несколько оконных функций, то партиции для них могут не совпадать."
      ],
      "metadata": {
        "id": "X_KSoq3FpwY9"
      }
    },
    {
      "cell_type": "code",
      "source": [
        "print('Паритиции')\n",
        "Image(url='https://github.com/kurenovk/SQL_WindowFunc/blob/main/PICTURES/2.%D0%9F%D0%B0%D1%80%D1%82%D0%B8%D1%86%D0%B8%D1%8F.png?raw=true')"
      ],
      "metadata": {
        "colab": {
          "base_uri": "https://localhost:8080/",
          "height": 342
        },
        "id": "XlExHBhysuOH",
        "outputId": "6af9b9ef-1f7b-4388-bfa5-323b8d795eee"
      },
      "execution_count": 25,
      "outputs": [
        {
          "output_type": "stream",
          "name": "stdout",
          "text": [
            "Паритиции\n"
          ]
        },
        {
          "output_type": "execute_result",
          "data": {
            "text/html": [
              "<img src=\"https://github.com/kurenovk/SQL_WindowFunc/blob/main/PICTURES/2.%D0%9F%D0%B0%D1%80%D1%82%D0%B8%D1%86%D0%B8%D1%8F.png?raw=true\"/>"
            ],
            "text/plain": [
              "<IPython.core.display.Image object>"
            ]
          },
          "metadata": {},
          "execution_count": 25
        }
      ]
    },
    {
      "cell_type": "markdown",
      "source": [
        "Иными словами, БД по строкам делится на группы в соответствии со значениями в одном иили нескольких столбцах, и для этих групп производятся вычисления.\n",
        "Основное отличие от применения группировки GROUP BY и использовании г группам агрегирующих функций состоит в том, что GROUP BY сокращает количество строк в запросе с помощью их группировки и выводит результат не для каждой строки, я для группировки строк."
      ],
      "metadata": {
        "id": "wEBT4Yeb9r7b"
      }
    },
    {
      "cell_type": "code",
      "source": [
        "print('Применение группировки GROUP BY и агрегирующих функций (здесь - вычисляется среднее значение)')\n",
        "Image(url='https://github.com/kurenovk/SQL_WindowFunc/blob/main/PICTURES/3.%20%D0%9F%D1%80%D0%B8%D0%BC%D0%B5%D0%BD%D0%B5%D0%BD%D0%B8%D0%B5%20%D0%B3%D1%80%D1%83%D0%BF%D0%B1%D0%B0%D0%B9.png?raw=true')"
      ],
      "metadata": {
        "colab": {
          "base_uri": "https://localhost:8080/",
          "height": 342
        },
        "outputId": "d908742e-0afe-4752-8577-14e4a78a6507",
        "id": "scHuFD-3-73G"
      },
      "execution_count": 27,
      "outputs": [
        {
          "output_type": "stream",
          "name": "stdout",
          "text": [
            "Применение группировки GROUP BY и агрегирующих функций (здесь - вычисляется среднее значение)\n"
          ]
        },
        {
          "output_type": "execute_result",
          "data": {
            "text/html": [
              "<img src=\"https://github.com/kurenovk/SQL_WindowFunc/blob/main/PICTURES/3.%20%D0%9F%D1%80%D0%B8%D0%BC%D0%B5%D0%BD%D0%B5%D0%BD%D0%B8%D0%B5%20%D0%B3%D1%80%D1%83%D0%BF%D0%B1%D0%B0%D0%B9.png?raw=true\"/>"
            ],
            "text/plain": [
              "<IPython.core.display.Image object>"
            ]
          },
          "metadata": {},
          "execution_count": 27
        }
      ]
    },
    {
      "cell_type": "markdown",
      "source": [
        "При использовании оконных функций количество строк в запросе не уменьшается по сравнении с исходной таблицей. Исходные строки тоже группируются по определенному признаку, для каждой группы производится вычисление агрегирующей функции, но вместо сворачивание строк в соответствующую группу создается дополнительный столбец с агрегирующим вычислением по группе, но для каждой строки, входящей в соответствующую группу"
      ],
      "metadata": {
        "id": "K6PJVb2o_jB-"
      }
    },
    {
      "cell_type": "code",
      "source": [
        "print('Применение оконной функции')\n",
        "Image(url='https://github.com/kurenovk/SQL_WindowFunc/blob/main/PICTURES/4.%20%D0%9F%D1%80%D0%B8%D0%BC%D0%B5%D0%BD%D0%B5%D0%BD%D0%B8%D0%B5%20%D0%BE%D0%BA%D0%BE%D0%BD%D0%BD%D0%BE%D0%B9%20%D1%84%D1%83%D0%BD%D0%BA%D1%86%D0%B8%D0%B8.png?raw=true')"
      ],
      "metadata": {
        "colab": {
          "base_uri": "https://localhost:8080/",
          "height": 343
        },
        "id": "h3MgFU1zAPUs",
        "outputId": "2743b25d-3577-4bc3-dc43-c2bcc76fbcb7"
      },
      "execution_count": 28,
      "outputs": [
        {
          "output_type": "stream",
          "name": "stdout",
          "text": [
            "Применение оконной функции\n"
          ]
        },
        {
          "output_type": "execute_result",
          "data": {
            "text/html": [
              "<img src=\"https://github.com/kurenovk/SQL_WindowFunc/blob/main/PICTURES/4.%20%D0%9F%D1%80%D0%B8%D0%BC%D0%B5%D0%BD%D0%B5%D0%BD%D0%B8%D0%B5%20%D0%BE%D0%BA%D0%BE%D0%BD%D0%BD%D0%BE%D0%B9%20%D1%84%D1%83%D0%BD%D0%BA%D1%86%D0%B8%D0%B8.png?raw=true\"/>"
            ],
            "text/plain": [
              "<IPython.core.display.Image object>"
            ]
          },
          "metadata": {},
          "execution_count": 28
        }
      ]
    },
    {
      "cell_type": "markdown",
      "source": [
        "Здесь тоже вычисляется средняя оценка для группы \"Петя\" и группы \"Маша\", а затем добавляется столбец \"Средняя оценка\" с соответствующим значением агерегации"
      ],
      "metadata": {
        "id": "gvkq8pdvAi2V"
      }
    },
    {
      "cell_type": "markdown",
      "source": [
        "!!!!!!!Подытожим. Оконные функции позволяют производить агрегатные вычисления и не терять исходные строки."
      ],
      "metadata": {
        "id": "QuV3-h4fiAg1"
      }
    },
    {
      "cell_type": "markdown",
      "source": [
        "# 2. Порядок выполнения"
      ],
      "metadata": {
        "id": "fj6vTnJJBKjA"
      }
    },
    {
      "cell_type": "code",
      "source": [],
      "metadata": {
        "id": "Q893FUO5X9G3"
      },
      "execution_count": null,
      "outputs": []
    },
    {
      "cell_type": "markdown",
      "source": [
        "# 3. Синтаксис"
      ],
      "metadata": {
        "id": "DrzM4lPVX9lO"
      }
    },
    {
      "cell_type": "markdown",
      "source": [
        "Cby"
      ],
      "metadata": {
        "id": "F8YtH1meYVHF"
      }
    },
    {
      "cell_type": "code",
      "source": [
        "print('Синтаксис оконной функции')\n",
        "Image(url='https://github.com/kurenovk/SQL_WindowFunc/blob/main/PICTURES/6.%D0%A1%D0%B8%D0%BD%D1%82%D0%B0%D0%BA%D1%81%D0%B8%D1%81%20%D0%BE%D0%BA%D0%BE%D0%BD%D0%BD%D0%BE%D0%B9%20%D1%84%D1%83%D0%BD%D0%BA%D1%86%D0%B8%D0%B8.png?raw=true')"
      ],
      "metadata": {
        "colab": {
          "base_uri": "https://localhost:8080/",
          "height": 169
        },
        "id": "RdM4kFjUYOat",
        "outputId": "726528c3-5240-4424-b79c-876a5992c77f"
      },
      "execution_count": 31,
      "outputs": [
        {
          "output_type": "stream",
          "name": "stdout",
          "text": [
            "Синтаксис оконной функции\n"
          ]
        },
        {
          "output_type": "execute_result",
          "data": {
            "text/html": [
              "<img src=\"https://github.com/kurenovk/SQL_WindowFunc/blob/main/PICTURES/6.%D0%A1%D0%B8%D0%BD%D1%82%D0%B0%D0%BA%D1%81%D0%B8%D1%81%20%D0%BE%D0%BA%D0%BE%D0%BD%D0%BD%D0%BE%D0%B9%20%D1%84%D1%83%D0%BD%D0%BA%D1%86%D0%B8%D0%B8.png?raw=true\"/>"
            ],
            "text/plain": [
              "<IPython.core.display.Image object>"
            ]
          },
          "metadata": {},
          "execution_count": 31
        }
      ]
    },
    {
      "cell_type": "markdown",
      "source": [
        "* FUNCTION NAME - имя оконной функции\n",
        "* FILTER -\n",
        "* OVER -\n",
        "* PARTITION BY - всегда в скобках?????\n",
        "* ORDER BY\n",
        "* filter clause -"
      ],
      "metadata": {
        "id": "hk5Jd8p8iawI"
      }
    },
    {
      "cell_type": "markdown",
      "source": [
        "# 4. Виды оконных функций"
      ],
      "metadata": {
        "id": "DdChZpb7jPRf"
      }
    },
    {
      "cell_type": "markdown",
      "source": [
        "## 4.1. Агрегатные функции (Aggregate window functions)"
      ],
      "metadata": {
        "id": "5W47x9gqjMFG"
      }
    },
    {
      "cell_type": "markdown",
      "source": [
        "Агрегатные функции — позволяют выполнять суммирование, подсчёт, нахождение максимумов и минимумов и средних значений. Они производят вычисления над набором строк в окне и возвращают одно результирующее значение:\n",
        "\n",
        "SUM(column_name) — возвращает сумму выбранных значений;\n",
        "AVG(column_name) — вычисляет среднее значение;\n",
        "MAX(column_name) и MIN(column_name) — возвращают максимальное и минимальное значение соответственно;\n",
        "COUNT(column_name) — находит количество значений."
      ],
      "metadata": {
        "id": "Ba0--BvzjMH6"
      }
    },
    {
      "cell_type": "code",
      "source": [],
      "metadata": {
        "id": "URaaeAipjNrc"
      },
      "execution_count": 31,
      "outputs": []
    },
    {
      "cell_type": "markdown",
      "source": [
        "## 4.2. Функции ранжирования (Ranking window functions)"
      ],
      "metadata": {
        "id": "Lp8pTAiajto4"
      }
    },
    {
      "cell_type": "markdown",
      "source": [
        "Функции ранжирования\n",
        "Функции ранжирования предоставляют способы оценки позиции каждой строки среди своих соседей в определённом порядке. Они полезны, когда необходимо определить ранги в наборе данных."
      ],
      "metadata": {
        "id": "h7SXPdzPjon1"
      }
    },
    {
      "cell_type": "markdown",
      "source": [
        "## 4.3. Функции смещения (Value window functions)"
      ],
      "metadata": {
        "id": "Qur7GWbAjy5S"
      }
    },
    {
      "cell_type": "markdown",
      "source": [
        "Функции смещения позволяют выполнять операции над текущей строкой, в зависимости от других строк в окне. Они бывают полезны, когда нужно анализировать последовательности или временные ряды данных."
      ],
      "metadata": {
        "id": "RWZe6kWij7qG"
      }
    },
    {
      "cell_type": "code",
      "source": [],
      "metadata": {
        "id": "5ZRsjWaQj6vL"
      },
      "execution_count": null,
      "outputs": []
    },
    {
      "cell_type": "code",
      "source": [],
      "metadata": {
        "id": "o6Ge1VKTkHns"
      },
      "execution_count": null,
      "outputs": []
    }
  ]
}